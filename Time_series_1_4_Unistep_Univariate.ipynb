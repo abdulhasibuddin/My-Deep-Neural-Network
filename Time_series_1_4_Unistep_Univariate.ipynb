{
  "nbformat": 4,
  "nbformat_minor": 0,
  "metadata": {
    "colab": {
      "name": "Time-series-1.4: Unistep-Univariate.ipynb",
      "provenance": [],
      "collapsed_sections": [],
      "machine_shape": "hm",
      "include_colab_link": true
    },
    "kernelspec": {
      "name": "python3",
      "display_name": "Python 3"
    },
    "accelerator": "GPU"
  },
  "cells": [
    {
      "cell_type": "markdown",
      "metadata": {
        "id": "view-in-github",
        "colab_type": "text"
      },
      "source": [
        "<a href=\"https://colab.research.google.com/github/abdulhasibuddin/My-Deep-Neural-Network/blob/master/Time_series_1_4_Unistep_Univariate.ipynb\" target=\"_parent\"><img src=\"https://colab.research.google.com/assets/colab-badge.svg\" alt=\"Open In Colab\"/></a>"
      ]
    },
    {
      "cell_type": "code",
      "metadata": {
        "id": "l5OqVKtWFiXu",
        "colab_type": "code",
        "outputId": "b704e1ae-db61-4fc2-c247-b8dba4c12762",
        "colab": {
          "base_uri": "https://localhost:8080/",
          "height": 34
        }
      },
      "source": [
        "from __future__ import absolute_import, division, print_function, unicode_literals\n",
        "try:\n",
        "  # %tensorflow_version only exists in Colab.\n",
        "  %tensorflow_version 2.x\n",
        "except Exception:\n",
        "  pass\n",
        "import tensorflow as tf\n",
        "from tensorflow.compat.v2.keras.models import Sequential\n",
        "from tensorflow.compat.v2.keras.layers import TimeDistributed, Bidirectional, LSTM, Dense, GRU, Conv2D, Conv3D, Conv1D, ConvLSTM2D\n",
        "import statistics as stat\n",
        "import matplotlib as mpl\n",
        "import matplotlib.pyplot as plt\n",
        "import numpy as np\n",
        "import os\n",
        "import pandas as pd\n",
        "import math\n",
        "from IPython.display import clear_output\n",
        "\n",
        "mpl.rcParams['figure.figsize'] = (8, 6)\n",
        "mpl.rcParams['axes.grid'] = False"
      ],
      "execution_count": 1,
      "outputs": [
        {
          "output_type": "stream",
          "text": [
            "TensorFlow 2.x selected.\n"
          ],
          "name": "stdout"
        }
      ]
    },
    {
      "cell_type": "code",
      "metadata": {
        "id": "CH9CL3ZOqdBY",
        "colab_type": "code",
        "colab": {}
      },
      "source": [
        "# HYPER-PARAMETERS::\n",
        "DATASET_TYPE = 'sin' #'sin'\n",
        "DATASET_START_INDEX = 0\n",
        "DATASET_END_INDEX = 400 #1000000\n",
        "DATA_INTERVAL = 1\n",
        "VALIDATION_DATASET_SIZE = 20\n",
        "TESTING_DATASET_START_INDEX = 421\n",
        "TESTING_DATASET_END_INDEX = 430\n",
        "\n",
        "#TRAIN_SPLIT_RATIO = 0.8\n",
        "UNIVARIATE_PAST_HISTORY = 5\n",
        "UNIVARIATE_FUTURE_TARGET = 0\n",
        "\n",
        "#BUFFER_SIZE = 2\n",
        "BATCH_SIZE_TRAIN = 1\n",
        "#BATCH_SIZE_VAL = 5\n",
        "#BATCH_SIZE = 5\n",
        "EPOCHS = 5\n",
        "NUM_LAYERS = 5\n",
        "NEURONS_PER_LAYER = 6"
      ],
      "execution_count": 0,
      "outputs": []
    },
    {
      "cell_type": "code",
      "metadata": {
        "id": "wrBtdCBVIs8K",
        "colab_type": "code",
        "colab": {}
      },
      "source": [
        "def create_dataset(dataset_type, start_index, end_index, interval):\n",
        "  dataset = []\n",
        "  for degree in range(start_index, end_index, interval):\n",
        "    if dataset_type == 'sin':\n",
        "      dataset.append(np.sin(np.deg2rad(degree)))\n",
        "    elif dataset_type == 'cos':\n",
        "      dataset.append(np.cos(np.deg2rad(degree)))\n",
        "    elif dataset_type == 'tan':\n",
        "      dataset.append(np.tan(np.deg2rad(degree)))\n",
        "    elif dataset_type == 'cot':\n",
        "      dataset.append(1/(np.tan(np.deg2rad(degree))))\n",
        "    elif dataset_type == 'sec':\n",
        "      dataset.append(1/(np.cos(np.deg2rad(degree))))\n",
        "    elif dataset_type == 'cosec':\n",
        "      dataset.append(1/(np.sin(np.deg2rad(degree))))\n",
        "    elif dataset_type == 'num':\n",
        "      dataset.append(float(degree))\n",
        "  return pd.DataFrame(dataset, columns=['values'])"
      ],
      "execution_count": 0,
      "outputs": []
    },
    {
      "cell_type": "code",
      "metadata": {
        "id": "qe3awW7CboEn",
        "colab_type": "code",
        "outputId": "1b5bcd84-a411-4d11-8ce6-f53a46b7287b",
        "colab": {
          "base_uri": "https://localhost:8080/",
          "height": 34
        }
      },
      "source": [
        "df_training_dataset = create_dataset(DATASET_TYPE, DATASET_START_INDEX, DATASET_END_INDEX, DATA_INTERVAL)\n",
        "df_training_dataset.shape"
      ],
      "execution_count": 4,
      "outputs": [
        {
          "output_type": "execute_result",
          "data": {
            "text/plain": [
              "(400, 1)"
            ]
          },
          "metadata": {
            "tags": []
          },
          "execution_count": 4
        }
      ]
    },
    {
      "cell_type": "code",
      "metadata": {
        "id": "LrzU3J8Dflng",
        "colab_type": "code",
        "outputId": "3ca48cea-688c-4229-981a-969923d6f61e",
        "colab": {
          "base_uri": "https://localhost:8080/",
          "height": 34
        }
      },
      "source": [
        "df_validation_dataset = create_dataset(DATASET_TYPE, DATASET_END_INDEX, DATASET_END_INDEX+VALIDATION_DATASET_SIZE, DATA_INTERVAL)\n",
        "df_validation_dataset.shape"
      ],
      "execution_count": 5,
      "outputs": [
        {
          "output_type": "execute_result",
          "data": {
            "text/plain": [
              "(20, 1)"
            ]
          },
          "metadata": {
            "tags": []
          },
          "execution_count": 5
        }
      ]
    },
    {
      "cell_type": "code",
      "metadata": {
        "id": "0x9_L137k8ke",
        "colab_type": "code",
        "colab": {}
      },
      "source": [
        "def univariate_data(dataset, start_index, end_index, history_size, target_size):\n",
        "  data = []\n",
        "  labels = []\n",
        "\n",
        "  start_index = start_index + history_size\n",
        "  if end_index is None:\n",
        "    end_index = len(dataset) - target_size\n",
        "\n",
        "  print('dataset.shape =',dataset.shape)\n",
        "  print('start_index =',start_index)\n",
        "  print('end_index =',end_index)\n",
        "  print('history_size =',history_size)\n",
        "  print('target_size =',target_size)\n",
        "\n",
        "  for i in range(start_index, end_index):\n",
        "    #try:\n",
        "    indices = range(i-history_size, i)\n",
        "    # Reshape data from (history_size,) to (history_size, 1):\n",
        "    data.append(np.reshape(dataset[indices], (history_size, 1)))\n",
        "    labels.append(dataset[i+target_size])\n",
        "    #except:\n",
        "     # pass\n",
        "  print('no. of data =',len(data))\n",
        "  print('no. of labels =',len(labels))\n",
        "  return np.array(data), np.array(labels)"
      ],
      "execution_count": 0,
      "outputs": []
    },
    {
      "cell_type": "code",
      "metadata": {
        "id": "tXaM7coVr_ry",
        "colab_type": "code",
        "colab": {}
      },
      "source": [
        "# Setting seed to ensure reproducibility\n",
        "tf.random.set_seed(13)"
      ],
      "execution_count": 0,
      "outputs": []
    },
    {
      "cell_type": "code",
      "metadata": {
        "id": "Sim6UtkbMEmu",
        "colab_type": "code",
        "outputId": "3e945fce-292c-4a7a-e312-c75051d8c6ac",
        "colab": {
          "base_uri": "https://localhost:8080/",
          "height": 384
        }
      },
      "source": [
        "df_training_dataset.plot(subplots=True)"
      ],
      "execution_count": 8,
      "outputs": [
        {
          "output_type": "execute_result",
          "data": {
            "text/plain": [
              "array([<matplotlib.axes._subplots.AxesSubplot object at 0x7fc5a1cabcc0>],\n",
              "      dtype=object)"
            ]
          },
          "metadata": {
            "tags": []
          },
          "execution_count": 8
        },
        {
          "output_type": "display_data",
          "data": {
            "image/png": "[encoded data removed]",
            "text/plain": [
              "<Figure size 576x432 with 1 Axes>"
            ]
          },
          "metadata": {
            "tags": []
          }
        }
      ]
    },
    {
      "cell_type": "code",
      "metadata": {
        "id": "iuylQQsY1e0m",
        "colab_type": "code",
        "outputId": "9f442233-8241-4a9a-c150-c58904324066",
        "colab": {
          "base_uri": "https://localhost:8080/",
          "height": 85
        }
      },
      "source": [
        "training_dataset = df_training_dataset['values']\n",
        "training_dataset.index = df_training_dataset.index\n",
        "validation_dataset = df_validation_dataset['values']\n",
        "validation_dataset.index = df_validation_dataset.index\n",
        "\n",
        "print('type(training_dataset) =',type(training_dataset))\n",
        "print('type(validation_dataset) =',type(validation_dataset))\n",
        "print('training_dataset.shape =',training_dataset.shape)\n",
        "print('validation_dataset.shape =',validation_dataset.shape)\n",
        "#training_dataset.head()"
      ],
      "execution_count": 9,
      "outputs": [
        {
          "output_type": "stream",
          "text": [
            "type(training_dataset) = <class 'pandas.core.series.Series'>\n",
            "type(validation_dataset) = <class 'pandas.core.series.Series'>\n",
            "training_dataset.shape = (400,)\n",
            "validation_dataset.shape = (20,)\n"
          ],
          "name": "stdout"
        }
      ]
    },
    {
      "cell_type": "code",
      "metadata": {
        "id": "DA5eyozwHMT5",
        "colab_type": "code",
        "outputId": "96b55dad-59af-429a-c7a5-71dbaf55d1e5",
        "colab": {
          "base_uri": "https://localhost:8080/",
          "height": 119
        }
      },
      "source": [
        "training_dataset_values = training_dataset.values\n",
        "num_training_data = training_dataset_values.shape[0]\n",
        "validation_dataset_values = validation_dataset.values\n",
        "num_validation_data = validation_dataset_values.shape[0]\n",
        "\n",
        "print('no. of training data =',num_training_data)\n",
        "print('no. of validation data =',num_validation_data)\n",
        "print('type(training_dataset_values) =',type(training_dataset_values))\n",
        "print('type(validation_dataset_values) =',type(validation_dataset_values))\n",
        "print('training_dataset_values.shape =',training_dataset_values.shape)\n",
        "print('validation_dataset_values.shape =',validation_dataset_values.shape)"
      ],
      "execution_count": 10,
      "outputs": [
        {
          "output_type": "stream",
          "text": [
            "no. of training data = 400\n",
            "no. of validation data = 20\n",
            "type(training_dataset_values) = <class 'numpy.ndarray'>\n",
            "type(validation_dataset_values) = <class 'numpy.ndarray'>\n",
            "training_dataset_values.shape = (400,)\n",
            "validation_dataset_values.shape = (20,)\n"
          ],
          "name": "stdout"
        }
      ]
    },
    {
      "cell_type": "code",
      "metadata": {
        "id": "THPtWv3L2eP3",
        "colab_type": "code",
        "outputId": "45383b0f-09ef-467f-9d12-a1c95dc2de66",
        "colab": {
          "base_uri": "https://localhost:8080/",
          "height": 51
        }
      },
      "source": [
        "mean_training_dataset = training_dataset_values.mean()\n",
        "std_training_dataset = training_dataset_values.std()\n",
        "\n",
        "print('mean_training_dataset =',mean_training_dataset)\n",
        "print('std_training_dataset =',std_training_dataset)"
      ],
      "execution_count": 11,
      "outputs": [
        {
          "output_type": "stream",
          "text": [
            "mean_training_dataset = 0.03270732980445086\n",
            "std_training_dataset = 0.68055235779348\n"
          ],
          "name": "stdout"
        }
      ]
    },
    {
      "cell_type": "code",
      "metadata": {
        "id": "bc-kILgYlCSH",
        "colab_type": "code",
        "colab": {}
      },
      "source": [
        "# Normalization:\n",
        "def normalize(dataset):\n",
        "    normalized_dataset = (dataset-mean_training_dataset)/std_training_dataset\n",
        "    return normalized_dataset"
      ],
      "execution_count": 0,
      "outputs": []
    },
    {
      "cell_type": "code",
      "metadata": {
        "id": "tE3H6LQU2_Ue",
        "colab_type": "code",
        "colab": {}
      },
      "source": [
        "# Denormalization:\n",
        "def denormalize(normalized_data):\n",
        "  denormalized_data = normalized_data*std_training_dataset + mean_training_dataset\n",
        "  return denormalized_data"
      ],
      "execution_count": 0,
      "outputs": []
    },
    {
      "cell_type": "code",
      "metadata": {
        "id": "19p8K4BrmGaW",
        "colab_type": "code",
        "colab": {}
      },
      "source": [
        ""
      ],
      "execution_count": 0,
      "outputs": []
    },
    {
      "cell_type": "code",
      "metadata": {
        "id": "lA5OZmSa3QHb",
        "colab_type": "code",
        "outputId": "414ba918-b862-4420-ccef-6c78e21d4e5c",
        "colab": {
          "base_uri": "https://localhost:8080/",
          "height": 85
        }
      },
      "source": [
        "# Normalization:\n",
        "training_dataset_normalized = normalize(training_dataset_values)\n",
        "validation_dataset_normalized = normalize(validation_dataset_values) # normalization have to be same\n",
        "\n",
        "print('training_dataset_normalized.shape =',training_dataset_normalized.shape)\n",
        "print('validation_dataset_normalized.shape =',validation_dataset_normalized.shape)\n",
        "print('type(training_dataset_normalized) =',type(training_dataset_normalized))\n",
        "print('type(validation_dataset_normalized) =',type(validation_dataset_normalized))"
      ],
      "execution_count": 14,
      "outputs": [
        {
          "output_type": "stream",
          "text": [
            "training_dataset_normalized.shape = (400,)\n",
            "validation_dataset_normalized.shape = (20,)\n",
            "type(training_dataset_normalized) = <class 'numpy.ndarray'>\n",
            "type(validation_dataset_normalized) = <class 'numpy.ndarray'>\n"
          ],
          "name": "stdout"
        }
      ]
    },
    {
      "cell_type": "code",
      "metadata": {
        "id": "u8errW5p3chn",
        "colab_type": "code",
        "outputId": "ea4b6137-0a66-472c-f67a-7515c9bf002c",
        "colab": {
          "base_uri": "https://localhost:8080/",
          "height": 306
        }
      },
      "source": [
        "univariate_past_history = UNIVARIATE_PAST_HISTORY\n",
        "univariate_future_target = UNIVARIATE_FUTURE_TARGET\n",
        "\n",
        "print('Training:')\n",
        "x_train_uni, y_train_uni = univariate_data(training_dataset_normalized, 0, None,\n",
        "                                           univariate_past_history,\n",
        "                                           univariate_future_target)\n",
        "print('\\nValidation:')\n",
        "x_val_uni, y_val_uni = univariate_data(validation_dataset_normalized, 0, None,\n",
        "                                       univariate_past_history,\n",
        "                                       univariate_future_target)"
      ],
      "execution_count": 15,
      "outputs": [
        {
          "output_type": "stream",
          "text": [
            "Training:\n",
            "dataset.shape = (400,)\n",
            "start_index = 5\n",
            "end_index = 400\n",
            "history_size = 5\n",
            "target_size = 0\n",
            "no. of data = 395\n",
            "no. of labels = 395\n",
            "\n",
            "Validation:\n",
            "dataset.shape = (20,)\n",
            "start_index = 5\n",
            "end_index = 20\n",
            "history_size = 5\n",
            "target_size = 0\n",
            "no. of data = 15\n",
            "no. of labels = 15\n"
          ],
          "name": "stdout"
        }
      ]
    },
    {
      "cell_type": "code",
      "metadata": {
        "id": "erCrFzSd4_OM",
        "colab_type": "code",
        "outputId": "82727a66-37e5-4503-c6d7-c5b2678ba5f6",
        "colab": {
          "base_uri": "https://localhost:8080/",
          "height": 221
        }
      },
      "source": [
        "print('x_train_uni.shape =',x_train_uni.shape)\n",
        "print('y_train_uni.shape =',y_train_uni.shape)\n",
        "print('x_val_uni.shape =',x_val_uni.shape)\n",
        "print('y_val_uni.shape =',y_val_uni.shape)\n",
        "print('num_val_data =',y_val_uni.shape[0])\n",
        "print('type(x_train_uni) =',type(x_train_uni))\n",
        "print('type(y_train_uni) =',type(y_train_uni))\n",
        "print('type(x_val_uni) =',type(x_val_uni))\n",
        "print('type(y_val_uni) =',type(y_val_uni))\n",
        "\n",
        "print('\\nLast value of the window of past history =',x_train_uni[0][-1])\n",
        "print('Target value to predict =',y_train_uni[0])"
      ],
      "execution_count": 16,
      "outputs": [
        {
          "output_type": "stream",
          "text": [
            "x_train_uni.shape = (395, 5, 1)\n",
            "y_train_uni.shape = (395,)\n",
            "x_val_uni.shape = (15, 5, 1)\n",
            "y_val_uni.shape = (15,)\n",
            "num_val_data = 15\n",
            "type(x_train_uni) = <class 'numpy.ndarray'>\n",
            "type(y_train_uni) = <class 'numpy.ndarray'>\n",
            "type(x_val_uni) = <class 'numpy.ndarray'>\n",
            "type(y_val_uni) = <class 'numpy.ndarray'>\n",
            "\n",
            "Last value of the window of past history = [0.05443981]\n",
            "Target value to predict = 0.08000620719284936\n"
          ],
          "name": "stdout"
        }
      ]
    },
    {
      "cell_type": "code",
      "metadata": {
        "id": "DcWksTggDrx7",
        "colab_type": "code",
        "colab": {}
      },
      "source": [
        "def create_time_steps(length): # only needed for plots\n",
        "  time_steps = []\n",
        "  for i in range(-length, 0, 1):\n",
        "    time_steps.append(i)\n",
        "  return time_steps"
      ],
      "execution_count": 0,
      "outputs": []
    },
    {
      "cell_type": "code",
      "metadata": {
        "id": "hI_UTq8GHlGR",
        "colab_type": "code",
        "colab": {}
      },
      "source": [
        "def show_plot(plot_data, delta, title):\n",
        "  labels = ['History', 'True Future', 'Model Prediction']\n",
        "  marker = ['.-', 'rx', 'go']\n",
        "  time_steps = create_time_steps(plot_data[0].shape[0])\n",
        "  \n",
        "  if delta:\n",
        "    future = delta\n",
        "  else:\n",
        "    future = 0\n",
        "\n",
        "  plt.title(title)\n",
        "  for i, x in enumerate(plot_data):\n",
        "    if i:\n",
        "      plt.plot(future, plot_data[i], marker[i], markersize=10,\n",
        "               label=labels[i])\n",
        "    else:\n",
        "      plt.plot(time_steps, plot_data[i].flatten(), marker[i],\n",
        "               label=labels[i])\n",
        "      \n",
        "  plt.legend()\n",
        "  plt.xlim([time_steps[0], (future+5)*2])\n",
        "\n",
        "  plt.xlabel('Time-Step')\n",
        "  return plt"
      ],
      "execution_count": 0,
      "outputs": []
    },
    {
      "cell_type": "code",
      "metadata": {
        "id": "AT-hQHOWJqq9",
        "colab_type": "code",
        "outputId": "2ddd60ee-4116-40fc-e0c8-1657cda6ad01",
        "colab": {
          "base_uri": "https://localhost:8080/",
          "height": 421
        }
      },
      "source": [
        "show_plot([x_train_uni[0], y_train_uni[0]], 0, 'Sample Example')"
      ],
      "execution_count": 19,
      "outputs": [
        {
          "output_type": "execute_result",
          "data": {
            "text/plain": [
              "<module 'matplotlib.pyplot' from '/usr/local/lib/python3.6/dist-packages/matplotlib/pyplot.py'>"
            ]
          },
          "metadata": {
            "tags": []
          },
          "execution_count": 19
        },
        {
          "output_type": "display_data",
          "data": {
            "image/png": "[encoded data removed]",
            "text/plain": [
              "<Figure size 576x432 with 1 Axes>"
            ]
          },
          "metadata": {
            "tags": []
          }
        }
      ]
    },
    {
      "cell_type": "code",
      "metadata": {
        "id": "1Zk9kzocJMAf",
        "colab_type": "code",
        "outputId": "f8c54791-fbc1-44ad-d83f-ac0cae59d1c6",
        "colab": {
          "base_uri": "https://localhost:8080/",
          "height": 170
        }
      },
      "source": [
        "print('(# of training data, features, time steps) =',x_train_uni.shape)\n",
        "print('x_train_uni.shape[-2:] =',x_train_uni.shape[-2:])\n",
        "print('y_train_uni.shape =',y_train_uni.shape)\n",
        "print('y_train_uni.shape[0] =',y_train_uni.shape[0])\n",
        "\n",
        "print('\\n(# of validation data, features, time steps) =',x_val_uni.shape)\n",
        "print('x_val_uni.shape[-2:] =',x_val_uni.shape[-2:])\n",
        "print('y_val_uni.shape =',y_val_uni.shape)\n",
        "print('y_val_uni.shape[0] =',y_val_uni.shape[0])"
      ],
      "execution_count": 20,
      "outputs": [
        {
          "output_type": "stream",
          "text": [
            "(# of training data, features, time steps) = (395, 5, 1)\n",
            "x_train_uni.shape[-2:] = (5, 1)\n",
            "y_train_uni.shape = (395,)\n",
            "y_train_uni.shape[0] = 395\n",
            "\n",
            "(# of validation data, features, time steps) = (15, 5, 1)\n",
            "x_val_uni.shape[-2:] = (5, 1)\n",
            "y_val_uni.shape = (15,)\n",
            "y_val_uni.shape[0] = 15\n"
          ],
          "name": "stdout"
        }
      ]
    },
    {
      "cell_type": "code",
      "metadata": {
        "id": "rzh3Z-UUNqrO",
        "colab_type": "code",
        "outputId": "707f8b12-cc8c-4234-808e-3d71457f1015",
        "colab": {
          "base_uri": "https://localhost:8080/",
          "height": 34
        }
      },
      "source": [
        "x_train_uni[0][0][0]"
      ],
      "execution_count": 21,
      "outputs": [
        {
          "output_type": "execute_result",
          "data": {
            "text/plain": [
              "-0.048059975738672274"
            ]
          },
          "metadata": {
            "tags": []
          },
          "execution_count": 21
        }
      ]
    },
    {
      "cell_type": "markdown",
      "metadata": {
        "id": "etC-26CmoIuH",
        "colab_type": "text"
      },
      "source": [
        "MODEL"
      ]
    },
    {
      "cell_type": "code",
      "metadata": {
        "id": "4fRYLMTGZPQK",
        "colab_type": "code",
        "outputId": "6e59455f-d4e4-4e47-ebd0-952305feb20f",
        "colab": {
          "base_uri": "https://localhost:8080/",
          "height": 357
        }
      },
      "source": [
        "myModel = Sequential()\n",
        "myModel.add(GRU(NEURONS_PER_LAYER, input_shape=x_train_uni.shape[-2:], return_sequences=True))\n",
        "for _ in range(NUM_LAYERS-2):\n",
        "    myModel.add(Bidirectional(GRU(NEURONS_PER_LAYER, return_sequences=True)))\n",
        "myModel.add(Bidirectional(GRU(NEURONS_PER_LAYER))) # at last RNN layer, 'return_sequences=True' will create problem in prediction shape.\n",
        "myModel.add(Dense(1))\n",
        "myModel.compile(optimizer='adam', loss='mae')\n",
        "#myModel.build(x_train_uni.shape[-2:])\n",
        "myModel.summary()"
      ],
      "execution_count": 140,
      "outputs": [
        {
          "output_type": "stream",
          "text": [
            "Model: \"sequential_8\"\n",
            "_________________________________________________________________\n",
            "Layer (type)                 Output Shape              Param #   \n",
            "=================================================================\n",
            "gru_42 (GRU)                 (None, 5, 6)              162       \n",
            "_________________________________________________________________\n",
            "bidirectional_34 (Bidirectio (None, 5, 12)             504       \n",
            "_________________________________________________________________\n",
            "bidirectional_35 (Bidirectio (None, 5, 12)             720       \n",
            "_________________________________________________________________\n",
            "bidirectional_36 (Bidirectio (None, 5, 12)             720       \n",
            "_________________________________________________________________\n",
            "bidirectional_37 (Bidirectio (None, 12)                720       \n",
            "_________________________________________________________________\n",
            "dense_8 (Dense)              (None, 1)                 13        \n",
            "=================================================================\n",
            "Total params: 2,839\n",
            "Trainable params: 2,839\n",
            "Non-trainable params: 0\n",
            "_________________________________________________________________\n"
          ],
          "name": "stdout"
        }
      ]
    },
    {
      "cell_type": "markdown",
      "metadata": {
        "id": "5ICGpPi_oP9-",
        "colab_type": "text"
      },
      "source": [
        "TRAINING"
      ]
    },
    {
      "cell_type": "code",
      "metadata": {
        "id": "vbp6_II2iwHW",
        "colab_type": "code",
        "outputId": "43a8083d-199d-4560-d1be-641ad3de300f",
        "colab": {
          "base_uri": "https://localhost:8080/",
          "height": 204
        }
      },
      "source": [
        "history = myModel.fit(x_train_uni, y_train_uni,\n",
        "                    batch_size=BATCH_SIZE_TRAIN,\n",
        "                    epochs=EPOCHS,\n",
        "                    # We pass some validation for\n",
        "                    # monitoring validation loss and metrics\n",
        "                    # at the end of each epoch\n",
        "                    validation_data=(x_val_uni, y_val_uni)\n",
        "                    )"
      ],
      "execution_count": 141,
      "outputs": [
        {
          "output_type": "stream",
          "text": [
            "Train on 395 samples, validate on 15 samples\n",
            "Epoch 1/5\n",
            "395/395 [==============================] - 21s 54ms/sample - loss: 0.1665 - val_loss: 0.0306\n",
            "Epoch 2/5\n",
            "395/395 [==============================] - 7s 18ms/sample - loss: 0.0939 - val_loss: 0.0927\n",
            "Epoch 3/5\n",
            "395/395 [==============================] - 7s 18ms/sample - loss: 0.0791 - val_loss: 0.0335\n",
            "Epoch 4/5\n",
            "395/395 [==============================] - 7s 18ms/sample - loss: 0.0702 - val_loss: 0.0823\n",
            "Epoch 5/5\n",
            "395/395 [==============================] - 7s 18ms/sample - loss: 0.0645 - val_loss: 0.0057\n"
          ],
          "name": "stdout"
        }
      ]
    },
    {
      "cell_type": "code",
      "metadata": {
        "id": "DWNIv0OQd_Lw",
        "colab_type": "code",
        "outputId": "05ce2a57-64bf-4dcd-c646-8ad907aab409",
        "colab": {
          "base_uri": "https://localhost:8080/",
          "height": 51
        }
      },
      "source": [
        "print('loss =',history.history['loss'])\n",
        "print('val_loss =',history.history['val_loss'])"
      ],
      "execution_count": 142,
      "outputs": [
        {
          "output_type": "stream",
          "text": [
            "loss = [0.16649567586711692, 0.09394935683547696, 0.07908418792523915, 0.07017757458777367, 0.06449337674752821]\n",
            "val_loss = [0.03056055704752604, 0.09267734289169312, 0.03345146179199219, 0.08233654499053955, 0.005672367413838705]\n"
          ],
          "name": "stdout"
        }
      ]
    },
    {
      "cell_type": "markdown",
      "metadata": {
        "id": "exUsJtX5oWM3",
        "colab_type": "text"
      },
      "source": [
        "PREDICTION"
      ]
    },
    {
      "cell_type": "code",
      "metadata": {
        "id": "1xtsbWowjCyu",
        "colab_type": "code",
        "outputId": "fb3c3d8f-4e14-44f7-886b-83bfcd0d26a3",
        "colab": {
          "base_uri": "https://localhost:8080/",
          "height": 408
        }
      },
      "source": [
        "df_test_dataset = create_dataset(DATASET_TYPE, TESTING_DATASET_START_INDEX, TESTING_DATASET_END_INDEX, DATA_INTERVAL)\n",
        "print(type(df_test_dataset))\n",
        "print('df_test_dataset.shape =',df_test_dataset.shape)\n",
        "\n",
        "test_dataset = df_test_dataset['values'].values\n",
        "print('type(test_dataset) =',type(test_dataset))\n",
        "print('\\ntest_dataset.shape =',test_dataset.shape)\n",
        "\n",
        "test_dataset_normalized = normalize(test_dataset)\n",
        "\n",
        "print('\\nTest dataset without normalization:')\n",
        "x_test_uni, y_test_uni = univariate_data(test_dataset, 0, None,\n",
        "                                           UNIVARIATE_PAST_HISTORY,\n",
        "                                           UNIVARIATE_FUTURE_TARGET)\n",
        "\n",
        "print('\\nTest dataset with normalization:')\n",
        "x_test_uni_normalized, y_test_uni_normalized = univariate_data(test_dataset_normalized, 0, None,\n",
        "                                           UNIVARIATE_PAST_HISTORY,\n",
        "                                           UNIVARIATE_FUTURE_TARGET)"
      ],
      "execution_count": 143,
      "outputs": [
        {
          "output_type": "stream",
          "text": [
            "<class 'pandas.core.frame.DataFrame'>\n",
            "df_test_dataset.shape = (9, 1)\n",
            "type(test_dataset) = <class 'numpy.ndarray'>\n",
            "\n",
            "test_dataset.shape = (9,)\n",
            "\n",
            "Test dataset without normalization:\n",
            "dataset.shape = (9,)\n",
            "start_index = 5\n",
            "end_index = 9\n",
            "history_size = 5\n",
            "target_size = 0\n",
            "no. of data = 4\n",
            "no. of labels = 4\n",
            "\n",
            "Test dataset with normalization:\n",
            "dataset.shape = (9,)\n",
            "start_index = 5\n",
            "end_index = 9\n",
            "history_size = 5\n",
            "target_size = 0\n",
            "no. of data = 4\n",
            "no. of labels = 4\n"
          ],
          "name": "stdout"
        }
      ]
    },
    {
      "cell_type": "code",
      "metadata": {
        "id": "TPK5OUYnusfF",
        "colab_type": "code",
        "outputId": "0f40c06b-a678-471a-9466-0b7d64565b3d",
        "colab": {
          "base_uri": "https://localhost:8080/",
          "height": 34
        }
      },
      "source": [
        "y_test_uni_normalized.shape"
      ],
      "execution_count": 144,
      "outputs": [
        {
          "output_type": "execute_result",
          "data": {
            "text/plain": [
              "(4,)"
            ]
          },
          "metadata": {
            "tags": []
          },
          "execution_count": 144
        }
      ]
    },
    {
      "cell_type": "code",
      "metadata": {
        "id": "HWDA6izXgOsJ",
        "colab_type": "code",
        "colab": {}
      },
      "source": [
        "#prediction = simple_lstm_model.predict(x_test_uni)\n",
        "prediction_normalized = myModel.predict(x_test_uni_normalized)"
      ],
      "execution_count": 0,
      "outputs": []
    },
    {
      "cell_type": "code",
      "metadata": {
        "id": "Truo_o3oAPuu",
        "colab_type": "code",
        "outputId": "920f25b6-4fc7-4d64-fc73-4a623a7711e1",
        "colab": {
          "base_uri": "https://localhost:8080/",
          "height": 34
        }
      },
      "source": [
        "prediction_denormalized = denormalize(prediction_normalized)\n",
        "\n",
        "index = -1\n",
        "print('actual =',y_test_uni[index],'; predicted =',prediction_denormalized[index])"
      ],
      "execution_count": 149,
      "outputs": [
        {
          "output_type": "stream",
          "text": [
            "actual = 0.9335804264972019 ; predicted = [0.92760575]\n"
          ],
          "name": "stdout"
        }
      ]
    },
    {
      "cell_type": "code",
      "metadata": {
        "id": "zBJEdcXF5QHY",
        "colab_type": "code",
        "outputId": "e7297392-08e5-4947-bfb8-3a6770f1558f",
        "colab": {
          "base_uri": "https://localhost:8080/",
          "height": 34
        }
      },
      "source": [
        "type(y_test_uni[0])"
      ],
      "execution_count": 150,
      "outputs": [
        {
          "output_type": "execute_result",
          "data": {
            "text/plain": [
              "numpy.float64"
            ]
          },
          "metadata": {
            "tags": []
          },
          "execution_count": 150
        }
      ]
    },
    {
      "cell_type": "code",
      "metadata": {
        "id": "RW6fNC_0tLbv",
        "colab_type": "code",
        "outputId": "2a11749c-2b12-4675-dd04-88b425766943",
        "colab": {
          "base_uri": "https://localhost:8080/",
          "height": 51
        }
      },
      "source": [
        "'''\n",
        "data has to be a 3-dimentional array with shape (UNIVARIATE_PAST_HISTORY,1), \n",
        "i.e., (None, UNIVARIATE_PAST_HISTORY, 1)\n",
        "'''\n",
        "val = []\n",
        "for i in range(1,UNIVARIATE_PAST_HISTORY+1):\n",
        "    val.append([float(i)])\n",
        "#val_numpy = np.asarray(val)\n",
        "print(type(val))\n",
        "print('shape of val = (',len(val),',',len(val[0]),')')\n",
        "#print(type(val_numpy))\n",
        "#print('val_numpy.shape =',val_numpy.shape)"
      ],
      "execution_count": 151,
      "outputs": [
        {
          "output_type": "stream",
          "text": [
            "<class 'list'>\n",
            "shape of val = ( 5 , 1 )\n"
          ],
          "name": "stdout"
        }
      ]
    },
    {
      "cell_type": "code",
      "metadata": {
        "id": "7kDfXAzbrhQF",
        "colab_type": "code",
        "outputId": "f5f85128-6e54-4c68-fe39-7e91fcab6df3",
        "colab": {
          "base_uri": "https://localhost:8080/",
          "height": 34
        }
      },
      "source": [
        "myModel.predict([val])"
      ],
      "execution_count": 152,
      "outputs": [
        {
          "output_type": "execute_result",
          "data": {
            "text/plain": [
              "array([[1.9131742]], dtype=float32)"
            ]
          },
          "metadata": {
            "tags": []
          },
          "execution_count": 152
        }
      ]
    },
    {
      "cell_type": "code",
      "metadata": {
        "id": "hclXH4QYkTTd",
        "colab_type": "code",
        "outputId": "9bf2cd5d-6056-4af4-8844-9a696068cb48",
        "colab": {
          "base_uri": "https://localhost:8080/",
          "height": 51
        }
      },
      "source": [
        "print(type(prediction_denormalized))\n",
        "print(prediction_denormalized.shape)"
      ],
      "execution_count": 153,
      "outputs": [
        {
          "output_type": "stream",
          "text": [
            "<class 'numpy.ndarray'>\n",
            "(4, 1)\n"
          ],
          "name": "stdout"
        }
      ]
    },
    {
      "cell_type": "code",
      "metadata": {
        "id": "cqIgW7gqqMPc",
        "colab_type": "code",
        "outputId": "ddc7cf67-8c24-4ec1-82ef-a1df4b28e6ea",
        "colab": {
          "base_uri": "https://localhost:8080/",
          "height": 374
        }
      },
      "source": [
        "x_axis_values = [i for i in range(prediction_normalized.shape[0])]\n",
        "plt.figure()\n",
        "plt.plot(x_axis_values, y_test_uni, label='actual')\n",
        "plt.plot(x_axis_values, prediction_denormalized, label='predicted')\n",
        "plt.legend()\n",
        "plt.show()"
      ],
      "execution_count": 154,
      "outputs": [
        {
          "output_type": "display_data",
          "data": {
            "image/png": "[encoded data removed]",
            "text/plain": [
              "<Figure size 576x432 with 1 Axes>"
            ]
          },
          "metadata": {
            "tags": []
          }
        }
      ]
    },
    {
      "cell_type": "code",
      "metadata": {
        "id": "I0ieXNzWqMZk",
        "colab_type": "code",
        "colab": {}
      },
      "source": [
        ""
      ],
      "execution_count": 0,
      "outputs": []
    },
    {
      "cell_type": "code",
      "metadata": {
        "id": "dfo0fEXDoA2P",
        "colab_type": "code",
        "outputId": "65e74343-eae0-4bab-dc0d-12031bdb658b",
        "colab": {
          "base_uri": "https://localhost:8080/",
          "height": 105
        }
      },
      "source": [
        "# For last predicted group:\n",
        "list_absolute_error = []\n",
        "list_signed_error = []\n",
        "list_error_percentage = []\n",
        "for actual,predicted in zip(y_test_uni,prediction_denormalized):\n",
        "    actual = actual\n",
        "    predicted = predicted[0]\n",
        "    error = actual-predicted\n",
        "    error_percentage = abs(error/actual)\n",
        "    list_signed_error.append(error)\n",
        "    list_absolute_error.append(abs(error))\n",
        "    list_error_percentage.append(error_percentage)\n",
        "    #print('actual =',actual,'; predicted =',predicted,'; error =',error,'; abs_error =',abs(error))\n",
        "print('actual =',actual,'; predicted =',predicted,'; error =',error,'; abs_error =',abs(error),'; error_percentage =',abs(error_percentage))\n",
        "print('len(list_absolute_error) =',len(list_absolute_error))\n",
        "print('len(list_signed_error) =',len(list_signed_error))\n",
        "print('len(list_error_percentage) =',len(list_error_percentage))"
      ],
      "execution_count": 155,
      "outputs": [
        {
          "output_type": "stream",
          "text": [
            "actual = 0.9335804264972019 ; predicted = 0.92760575 ; error = 0.005974678320627147 ; abs_error = 0.005974678320627147 ; error_percentage = 0.0063997467717314595\n",
            "len(list_absolute_error) = 4\n",
            "len(list_signed_error) = 4\n",
            "len(list_error_percentage) = 4\n"
          ],
          "name": "stdout"
        }
      ]
    },
    {
      "cell_type": "code",
      "metadata": {
        "id": "MpvV9kiQYT00",
        "colab_type": "code",
        "outputId": "96f39bcc-8261-46c6-c087-e112a3945b2f",
        "colab": {
          "base_uri": "https://localhost:8080/",
          "height": 51
        }
      },
      "source": [
        "print(y_test_uni.shape)\n",
        "print(prediction_denormalized.shape)"
      ],
      "execution_count": 156,
      "outputs": [
        {
          "output_type": "stream",
          "text": [
            "(4,)\n",
            "(4, 1)\n"
          ],
          "name": "stdout"
        }
      ]
    },
    {
      "cell_type": "code",
      "metadata": {
        "id": "W54l43ehXyjX",
        "colab_type": "code",
        "outputId": "bb070805-880f-4d69-e178-76c076fc8b5a",
        "colab": {
          "base_uri": "https://localhost:8080/",
          "height": 102
        }
      },
      "source": [
        "index = 0\n",
        "print('actual =',y_test_uni[index],'\\npredicted =',prediction_denormalized[index],\n",
        "      '\\nerror =',list_signed_error[index],\n",
        "      '\\nabs_error =',list_absolute_error[index],\n",
        "      '\\nerror_percentage =',list_error_percentage[index])"
      ],
      "execution_count": 157,
      "outputs": [
        {
          "output_type": "stream",
          "text": [
            "actual = 0.9135454576426009 \n",
            "predicted = [0.909497] \n",
            "error = 0.004048435013816687 \n",
            "abs_error = 0.004048435013816687 \n",
            "error_percentage = 0.004431563837297875\n"
          ],
          "name": "stdout"
        }
      ]
    },
    {
      "cell_type": "markdown",
      "metadata": {
        "id": "yOF-bz_K69_C",
        "colab_type": "text"
      },
      "source": [
        "ERROR:"
      ]
    },
    {
      "cell_type": "code",
      "metadata": {
        "id": "DnbOVeFr0toi",
        "colab_type": "code",
        "outputId": "4ad6e14d-a2bb-41f2-a79c-3192d0b23904",
        "colab": {
          "base_uri": "https://localhost:8080/",
          "height": 34
        }
      },
      "source": [
        "# ERROR: (previous error = 0.005019746610581216)\n",
        "mean_mae_error = np.mean(np.asarray(list_absolute_error))\n",
        "print('mean_mae_error =',mean_mae_error)"
      ],
      "execution_count": 158,
      "outputs": [
        {
          "output_type": "stream",
          "text": [
            "mean_mae_error = 0.005019746610581216\n"
          ],
          "name": "stdout"
        }
      ]
    },
    {
      "cell_type": "code",
      "metadata": {
        "id": "bIAIPexJR6YK",
        "colab_type": "code",
        "outputId": "f8eee933-8eee-4d6b-9133-3371fef68c71",
        "colab": {
          "base_uri": "https://localhost:8080/",
          "height": 34
        }
      },
      "source": [
        "mean_error_percentage = np.mean(np.asarray(list_error_percentage))\n",
        "print('mean_error_percentage =',mean_error_percentage)\n",
        "#np.mean(np.asarray([1,2,3,4,5]))"
      ],
      "execution_count": 159,
      "outputs": [
        {
          "output_type": "stream",
          "text": [
            "mean_error_percentage = 0.005428437127291676\n"
          ],
          "name": "stdout"
        }
      ]
    },
    {
      "cell_type": "code",
      "metadata": {
        "id": "2__w78iBiIa6",
        "colab_type": "code",
        "outputId": "91effa91-dee4-4048-8ccf-3e9383ef3eca",
        "colab": {
          "base_uri": "https://localhost:8080/",
          "height": 374
        }
      },
      "source": [
        "# Absolute error plotting:\n",
        "x_axis_values = [i for i in range(prediction_normalized.shape[0])]\n",
        "plt.figure()\n",
        "plt.plot(x_axis_values, list_error_percentage, label='error (pecentage)')\n",
        "plt.legend()\n",
        "plt.show()"
      ],
      "execution_count": 160,
      "outputs": [
        {
          "output_type": "display_data",
          "data": {
            "image/png": "[encoded data removed]",
            "text/plain": [
              "<Figure size 576x432 with 1 Axes>"
            ]
          },
          "metadata": {
            "tags": []
          }
        }
      ]
    },
    {
      "cell_type": "code",
      "metadata": {
        "id": "91MooIAuxeYw",
        "colab_type": "code",
        "outputId": "f35b1eb5-f549-4c48-bf69-77fcad30511a",
        "colab": {
          "base_uri": "https://localhost:8080/",
          "height": 374
        }
      },
      "source": [
        "# Absolute error plotting:\n",
        "x_axis_values = [i for i in range(prediction_normalized.shape[0])]\n",
        "plt.figure()\n",
        "plt.plot(x_axis_values, list_absolute_error, label='absolute error')\n",
        "plt.legend()\n",
        "plt.show()"
      ],
      "execution_count": 161,
      "outputs": [
        {
          "output_type": "display_data",
          "data": {
            "image/png": "[encoded data removed]",
            "text/plain": [
              "<Figure size 576x432 with 1 Axes>"
            ]
          },
          "metadata": {
            "tags": []
          }
        }
      ]
    },
    {
      "cell_type": "code",
      "metadata": {
        "id": "6hhvDkVMxWor",
        "colab_type": "code",
        "outputId": "b84c7913-a9e4-4eb3-d84b-32c11b5866cb",
        "colab": {
          "base_uri": "https://localhost:8080/",
          "height": 374
        }
      },
      "source": [
        "# Signed error plotting:\n",
        "x_axis_values = [i for i in range(prediction_normalized.shape[0])]\n",
        "plt.figure()\n",
        "plt.plot(x_axis_values, list_signed_error, label='signed error')\n",
        "plt.legend()\n",
        "plt.show()"
      ],
      "execution_count": 162,
      "outputs": [
        {
          "output_type": "display_data",
          "data": {
            "image/png": "[encoded data removed]",
            "text/plain": [
              "<Figure size 576x432 with 1 Axes>"
            ]
          },
          "metadata": {
            "tags": []
          }
        }
      ]
    },
    {
      "cell_type": "code",
      "metadata": {
        "id": "NaQbs2RQ0DK8",
        "colab_type": "code",
        "colab": {
          "base_uri": "https://localhost:8080/",
          "height": 374
        },
        "outputId": "bd7d0fbd-b505-41eb-f829-adc38c3054a8"
      },
      "source": [
        "#'''\n",
        "# Both errors plotting:\n",
        "x_axis_values = [i for i in range(prediction_normalized.shape[0])]\n",
        "plt.figure()\n",
        "plt.plot(x_axis_values, list_absolute_error, label='absolute error')\n",
        "plt.plot(x_axis_values, list_signed_error, label='signed error')\n",
        "plt.legend()\n",
        "plt.show()\n",
        "#'''"
      ],
      "execution_count": 163,
      "outputs": [
        {
          "output_type": "display_data",
          "data": {
            "image/png": "[encoded data removed]",
            "text/plain": [
              "<Figure size 576x432 with 1 Axes>"
            ]
          },
          "metadata": {
            "tags": []
          }
        }
      ]
    },
    {
      "cell_type": "code",
      "metadata": {
        "id": "qt94Fj7R0btH",
        "colab_type": "code",
        "colab": {
          "base_uri": "https://localhost:8080/",
          "height": 438
        },
        "outputId": "3d14bbc8-d133-4f34-aa20-01ccce9330b8"
      },
      "source": [
        "# REAL-TIME PREDICTION:\n",
        "index = 0\n",
        "print('History last =',x_test_uni[index][-1],'; True value =',y_test_uni[index],'; Predicted value =',prediction_denormalized[index])\n",
        "show_plot([x_test_uni[index], y_test_uni[index], prediction_denormalized[index]], 0, 'Prediction')"
      ],
      "execution_count": 164,
      "outputs": [
        {
          "output_type": "stream",
          "text": [
            "History last = [0.90630779] ; True value = 0.9135454576426009 ; Predicted value = [0.909497]\n"
          ],
          "name": "stdout"
        },
        {
          "output_type": "execute_result",
          "data": {
            "text/plain": [
              "<module 'matplotlib.pyplot' from '/usr/local/lib/python3.6/dist-packages/matplotlib/pyplot.py'>"
            ]
          },
          "metadata": {
            "tags": []
          },
          "execution_count": 164
        },
        {
          "output_type": "display_data",
          "data": {
            "image/png": "[encoded data removed]",
            "text/plain": [
              "<Figure size 576x432 with 1 Axes>"
            ]
          },
          "metadata": {
            "tags": []
          }
        }
      ]
    },
    {
      "cell_type": "code",
      "metadata": {
        "id": "kIKcW_xG3Jeg",
        "colab_type": "code",
        "colab": {
          "base_uri": "https://localhost:8080/",
          "height": 438
        },
        "outputId": "41c745ce-de76-49db-bfbe-e0e27e585431"
      },
      "source": [
        "index = -1\n",
        "print('History last =',x_test_uni[index][-1],'; True value =',y_test_uni[index],'; Predicted value =',prediction_denormalized[index])\n",
        "show_plot([x_test_uni[index], y_test_uni[index], prediction_denormalized[index]], 0, 'Prediction')"
      ],
      "execution_count": 165,
      "outputs": [
        {
          "output_type": "stream",
          "text": [
            "History last = [0.92718385] ; True value = 0.9335804264972019 ; Predicted value = [0.92760575]\n"
          ],
          "name": "stdout"
        },
        {
          "output_type": "execute_result",
          "data": {
            "text/plain": [
              "<module 'matplotlib.pyplot' from '/usr/local/lib/python3.6/dist-packages/matplotlib/pyplot.py'>"
            ]
          },
          "metadata": {
            "tags": []
          },
          "execution_count": 165
        },
        {
          "output_type": "display_data",
          "data": {
            "image/png": "[encoded data removed]",
            "text/plain": [
              "<Figure size 576x432 with 1 Axes>"
            ]
          },
          "metadata": {
            "tags": []
          }
        }
      ]
    },
    {
      "cell_type": "code",
      "metadata": {
        "id": "AXt-0gz_D7xM",
        "colab_type": "code",
        "colab": {}
      },
      "source": [
        ""
      ],
      "execution_count": 0,
      "outputs": []
    }
  ]
}